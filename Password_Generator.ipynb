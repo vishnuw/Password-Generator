{
  "nbformat": 4,
  "nbformat_minor": 0,
  "metadata": {
    "colab": {
      "provenance": []
    },
    "kernelspec": {
      "name": "python3",
      "display_name": "Python 3"
    },
    "language_info": {
      "name": "python"
    }
  },
  "cells": [
    {
      "cell_type": "code",
      "execution_count": null,
      "metadata": {
        "colab": {
          "base_uri": "https://localhost:8080/"
        },
        "id": "DA27RSMwAk9i",
        "outputId": "d17e6919-cc0a-4439-8a45-05dbac062108"
      },
      "outputs": [
        {
          "output_type": "stream",
          "name": "stdout",
          "text": [
            "Enter Your Name: \n",
            "vishnu\n",
            "Enter Your Age: \n",
            "19\n",
            "Your newly generated password is:  i19i:U8~uU\n"
          ]
        }
      ],
      "source": [
        "import random\n",
        "import array as arr\n",
        "\n",
        "# maximum length of password needed\n",
        "# this can be changed to suit your password length\n",
        "list_A= [8,9,10,11,12]\n",
        "max_len = random.choice(list_A)\n",
        "\n",
        "print(\"Enter Your Name: \")\n",
        "\n",
        "name= input()\n",
        "nameU= name.upper()\n",
        "nameL= name.lower()\n",
        "\n",
        "print(\"Enter Your Age: \")\n",
        "age= input()\n",
        "\n",
        "charac_U= list(nameU)\n",
        "charac_L= list(nameL)\n",
        "charac_NO= list(age)\n",
        "\n",
        "digits = ['0', '1', '2', '3', '4', '5', '6', '7', '8', '9']\n",
        "symbols = ['^', ';', '%', '<', '#', '$', '?', ':', '@', '.', '/', '!', '~', '>',\n",
        "        '*', '(', ')', '=']\n",
        "\n",
        "# combining all the characters from above arrays into one array\n",
        "combined_list = digits + charac_U + charac_L + symbols + charac_NO\n",
        "\n",
        "# randomly selecting a character from each set of characters\n",
        "rand_digit = random.choice(digits)\n",
        "rand_charac_U = random.choice(charac_U)\n",
        "rand_charac_L = random.choice(charac_L)\n",
        "rand_charac_NO = random.choice(charac_NO)\n",
        "rand_symbol = random.choice(symbols)\n",
        "\n",
        "# combining randomly selected characters\n",
        "temp_pass = rand_digit + rand_charac_U + rand_charac_L + rand_symbol + rand_charac_NO\n",
        "\n",
        "for x in range(max_len - 5):\n",
        "    temp_pass = temp_pass + random.choice(combined_list)\n",
        "\n",
        "    temp_pass_list = arr.array('u', temp_pass)\n",
        "    random.shuffle(temp_pass_list)\n",
        "\n",
        "password = \"\"\n",
        "for x in temp_pass_list:\n",
        "        password = password + x\n",
        "\n",
        "print(\"Your newly generated password is: \" , password)"
      ]
    }
  ]
}